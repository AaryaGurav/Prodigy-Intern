{
 "cells": [
  {
   "cell_type": "code",
   "execution_count": 1,
   "id": "873c394b",
   "metadata": {
    "_cell_guid": "b1076dfc-b9ad-4769-8c92-a6c4dae69d19",
    "_uuid": "8f2839f25d086af736a60e9eeb907d3b93b6e0e5",
    "execution": {
     "iopub.execute_input": "2022-11-09T09:13:31.256659Z",
     "iopub.status.busy": "2022-11-09T09:13:31.255654Z",
     "iopub.status.idle": "2022-11-09T09:13:31.277406Z",
     "shell.execute_reply": "2022-11-09T09:13:31.275987Z"
    },
    "papermill": {
     "duration": 0.036598,
     "end_time": "2022-11-09T09:13:31.280295",
     "exception": false,
     "start_time": "2022-11-09T09:13:31.243697",
     "status": "completed"
    },
    "tags": []
   },
   "outputs": [
    {
     "name": "stdout",
     "output_type": "stream",
     "text": [
      "/kaggle/input/titanic/train.csv\n",
      "/kaggle/input/titanic/test.csv\n",
      "/kaggle/input/titanic/gender_submission.csv\n"
     ]
    }
   ],
   "source": [
    "# This Python 3 environment comes with many helpful analytics libraries installed\n",
    "# It is defined by the kaggle/python Docker image: https://github.com/kaggle/docker-python\n",
    "# For example, here's several helpful packages to load\n",
    "\n",
    "import numpy as np # linear algebra\n",
    "import pandas as pd # data processing, CSV file I/O (e.g. pd.read_csv)\n",
    "\n",
    "# Input data files are available in the read-only \"../input/\" directory\n",
    "# For example, running this (by clicking run or pressing Shift+Enter) will list all files under the input directory\n",
    "\n",
    "import os\n",
    "for dirname, _, filenames in os.walk('/kaggle/input'):\n",
    "    for filename in filenames:\n",
    "        print(os.path.join(dirname, filename))\n",
    "\n",
    "# You can write up to 20GB to the current directory (/kaggle/working/) that gets preserved as output when you create a version using \"Save & Run All\" \n",
    "# You can also write temporary files to /kaggle/temp/, but they won't be saved outside of the current session"
   ]
  },
  {
   "cell_type": "code",
   "execution_count": 2,
   "id": "f6d8e90b",
   "metadata": {
    "execution": {
     "iopub.execute_input": "2022-11-09T09:13:31.302430Z",
     "iopub.status.busy": "2022-11-09T09:13:31.301841Z",
     "iopub.status.idle": "2022-11-09T09:13:32.480668Z",
     "shell.execute_reply": "2022-11-09T09:13:32.479426Z"
    },
    "papermill": {
     "duration": 1.194805,
     "end_time": "2022-11-09T09:13:32.483585",
     "exception": false,
     "start_time": "2022-11-09T09:13:31.288780",
     "status": "completed"
    },
    "tags": []
   },
   "outputs": [],
   "source": [
    "import seaborn as sns"
   ]
  },
  {
   "cell_type": "code",
   "execution_count": 3,
   "id": "b3c7131a",
   "metadata": {
    "execution": {
     "iopub.execute_input": "2022-11-09T09:13:32.502474Z",
     "iopub.status.busy": "2022-11-09T09:13:32.501478Z",
     "iopub.status.idle": "2022-11-09T09:13:32.554717Z",
     "shell.execute_reply": "2022-11-09T09:13:32.552621Z"
    },
    "papermill": {
     "duration": 0.065322,
     "end_time": "2022-11-09T09:13:32.557451",
     "exception": false,
     "start_time": "2022-11-09T09:13:32.492129",
     "status": "completed"
    },
    "tags": []
   },
   "outputs": [
    {
     "name": "stdout",
     "output_type": "stream",
     "text": [
      "(891, 12)\n"
     ]
    },
    {
     "data": {
      "text/html": [
       "<div>\n",
       "<style scoped>\n",
       "    .dataframe tbody tr th:only-of-type {\n",
       "        vertical-align: middle;\n",
       "    }\n",
       "\n",
       "    .dataframe tbody tr th {\n",
       "        vertical-align: top;\n",
       "    }\n",
       "\n",
       "    .dataframe thead th {\n",
       "        text-align: right;\n",
       "    }\n",
       "</style>\n",
       "<table border=\"1\" class=\"dataframe\">\n",
       "  <thead>\n",
       "    <tr style=\"text-align: right;\">\n",
       "      <th></th>\n",
       "      <th>PassengerId</th>\n",
       "      <th>Survived</th>\n",
       "      <th>Pclass</th>\n",
       "      <th>Name</th>\n",
       "      <th>Sex</th>\n",
       "      <th>Age</th>\n",
       "      <th>SibSp</th>\n",
       "      <th>Parch</th>\n",
       "      <th>Ticket</th>\n",
       "      <th>Fare</th>\n",
       "      <th>Cabin</th>\n",
       "      <th>Embarked</th>\n",
       "    </tr>\n",
       "  </thead>\n",
       "  <tbody>\n",
       "    <tr>\n",
       "      <th>0</th>\n",
       "      <td>1</td>\n",
       "      <td>0</td>\n",
       "      <td>3</td>\n",
       "      <td>Braund, Mr. Owen Harris</td>\n",
       "      <td>male</td>\n",
       "      <td>22.0</td>\n",
       "      <td>1</td>\n",
       "      <td>0</td>\n",
       "      <td>A/5 21171</td>\n",
       "      <td>7.2500</td>\n",
       "      <td>NaN</td>\n",
       "      <td>S</td>\n",
       "    </tr>\n",
       "    <tr>\n",
       "      <th>1</th>\n",
       "      <td>2</td>\n",
       "      <td>1</td>\n",
       "      <td>1</td>\n",
       "      <td>Cumings, Mrs. John Bradley (Florence Briggs Th...</td>\n",
       "      <td>female</td>\n",
       "      <td>38.0</td>\n",
       "      <td>1</td>\n",
       "      <td>0</td>\n",
       "      <td>PC 17599</td>\n",
       "      <td>71.2833</td>\n",
       "      <td>C85</td>\n",
       "      <td>C</td>\n",
       "    </tr>\n",
       "    <tr>\n",
       "      <th>2</th>\n",
       "      <td>3</td>\n",
       "      <td>1</td>\n",
       "      <td>3</td>\n",
       "      <td>Heikkinen, Miss. Laina</td>\n",
       "      <td>female</td>\n",
       "      <td>26.0</td>\n",
       "      <td>0</td>\n",
       "      <td>0</td>\n",
       "      <td>STON/O2. 3101282</td>\n",
       "      <td>7.9250</td>\n",
       "      <td>NaN</td>\n",
       "      <td>S</td>\n",
       "    </tr>\n",
       "  </tbody>\n",
       "</table>\n",
       "</div>"
      ],
      "text/plain": [
       "   PassengerId  Survived  Pclass  \\\n",
       "0            1         0       3   \n",
       "1            2         1       1   \n",
       "2            3         1       3   \n",
       "\n",
       "                                                Name     Sex   Age  SibSp  \\\n",
       "0                            Braund, Mr. Owen Harris    male  22.0      1   \n",
       "1  Cumings, Mrs. John Bradley (Florence Briggs Th...  female  38.0      1   \n",
       "2                             Heikkinen, Miss. Laina  female  26.0      0   \n",
       "\n",
       "   Parch            Ticket     Fare Cabin Embarked  \n",
       "0      0         A/5 21171   7.2500   NaN        S  \n",
       "1      0          PC 17599  71.2833   C85        C  \n",
       "2      0  STON/O2. 3101282   7.9250   NaN        S  "
      ]
     },
     "execution_count": 3,
     "metadata": {},
     "output_type": "execute_result"
    }
   ],
   "source": [
    "titanic_df = pd.read_csv('/kaggle/input/titanic/train.csv')\n",
    "testing_df = pd.read_csv('/kaggle/input/titanic/test.csv')\n",
    "testing_columns = testing_df.columns.to_list()\n",
    "testing_copy = testing_df.copy()\n",
    "print(titanic_df.shape)\n",
    "titanic_df.head(3)"
   ]
  },
  {
   "cell_type": "code",
   "execution_count": 4,
   "id": "bca6dab6",
   "metadata": {
    "execution": {
     "iopub.execute_input": "2022-11-09T09:13:32.576244Z",
     "iopub.status.busy": "2022-11-09T09:13:32.575782Z",
     "iopub.status.idle": "2022-11-09T09:13:32.591991Z",
     "shell.execute_reply": "2022-11-09T09:13:32.590993Z"
    },
    "papermill": {
     "duration": 0.028116,
     "end_time": "2022-11-09T09:13:32.594369",
     "exception": false,
     "start_time": "2022-11-09T09:13:32.566253",
     "status": "completed"
    },
    "tags": []
   },
   "outputs": [
    {
     "data": {
      "text/plain": [
       "((891, 9), (891,))"
      ]
     },
     "execution_count": 4,
     "metadata": {},
     "output_type": "execute_result"
    }
   ],
   "source": [
    "training_df, training_target = titanic_df.drop(columns=['PassengerId', 'Survived', 'Ticket']), titanic_df['Survived']\n",
    "training_df.shape, training_target.shape"
   ]
  },
  {
   "cell_type": "code",
   "execution_count": 5,
   "id": "42d7e580",
   "metadata": {
    "execution": {
     "iopub.execute_input": "2022-11-09T09:13:32.613715Z",
     "iopub.status.busy": "2022-11-09T09:13:32.612605Z",
     "iopub.status.idle": "2022-11-09T09:13:32.621762Z",
     "shell.execute_reply": "2022-11-09T09:13:32.620437Z"
    },
    "papermill": {
     "duration": 0.021145,
     "end_time": "2022-11-09T09:13:32.624089",
     "exception": false,
     "start_time": "2022-11-09T09:13:32.602944",
     "status": "completed"
    },
    "tags": []
   },
   "outputs": [
    {
     "data": {
      "text/plain": [
       "(418, 9)"
      ]
     },
     "execution_count": 5,
     "metadata": {},
     "output_type": "execute_result"
    }
   ],
   "source": [
    "testing_df = testing_df.drop(columns=['PassengerId', 'Ticket'])\n",
    "testing_df.shape"
   ]
  },
  {
   "cell_type": "code",
   "execution_count": 6,
   "id": "86a332e9",
   "metadata": {
    "execution": {
     "iopub.execute_input": "2022-11-09T09:13:32.643011Z",
     "iopub.status.busy": "2022-11-09T09:13:32.641791Z",
     "iopub.status.idle": "2022-11-09T09:13:32.652100Z",
     "shell.execute_reply": "2022-11-09T09:13:32.651138Z"
    },
    "papermill": {
     "duration": 0.022055,
     "end_time": "2022-11-09T09:13:32.654359",
     "exception": false,
     "start_time": "2022-11-09T09:13:32.632304",
     "status": "completed"
    },
    "tags": []
   },
   "outputs": [
    {
     "data": {
      "text/plain": [
       "Pclass        0\n",
       "Name          0\n",
       "Sex           0\n",
       "Age         177\n",
       "SibSp         0\n",
       "Parch         0\n",
       "Fare          0\n",
       "Cabin       687\n",
       "Embarked      2\n",
       "dtype: int64"
      ]
     },
     "execution_count": 6,
     "metadata": {},
     "output_type": "execute_result"
    }
   ],
   "source": [
    "training_df.isna().sum()"
   ]
  },
  {
   "cell_type": "code",
   "execution_count": 7,
   "id": "50a35fe7",
   "metadata": {
    "execution": {
     "iopub.execute_input": "2022-11-09T09:13:32.673360Z",
     "iopub.status.busy": "2022-11-09T09:13:32.672842Z",
     "iopub.status.idle": "2022-11-09T09:13:32.680260Z",
     "shell.execute_reply": "2022-11-09T09:13:32.678994Z"
    },
    "papermill": {
     "duration": 0.020034,
     "end_time": "2022-11-09T09:13:32.682710",
     "exception": false,
     "start_time": "2022-11-09T09:13:32.662676",
     "status": "completed"
    },
    "tags": []
   },
   "outputs": [],
   "source": [
    "def perform_eda(df):\n",
    "    \n",
    "    df['Title'] = df['Name'].apply(lambda x: x.split(\",\")[-1].split(\".\")[0])\n",
    "    df['Title'] = df['Title'].apply(lambda x: x if x.startswith(\"M\") else \"Other\")\n",
    "    \n",
    "    df['Family'] = df['Parch'] + df['SibSp']\n",
    "        \n",
    "    df = df.drop(columns = ['Name', 'Parch', 'SibSp', 'Cabin'])\n",
    "        \n",
    "    return df"
   ]
  },
  {
   "cell_type": "code",
   "execution_count": 8,
   "id": "39eebb62",
   "metadata": {
    "execution": {
     "iopub.execute_input": "2022-11-09T09:13:32.702702Z",
     "iopub.status.busy": "2022-11-09T09:13:32.702203Z",
     "iopub.status.idle": "2022-11-09T09:13:32.719457Z",
     "shell.execute_reply": "2022-11-09T09:13:32.718114Z"
    },
    "papermill": {
     "duration": 0.0296,
     "end_time": "2022-11-09T09:13:32.722043",
     "exception": false,
     "start_time": "2022-11-09T09:13:32.692443",
     "status": "completed"
    },
    "tags": []
   },
   "outputs": [],
   "source": [
    "training_df = perform_eda(training_df)\n",
    "testing_df = perform_eda(testing_df)"
   ]
  },
  {
   "cell_type": "code",
   "execution_count": 9,
   "id": "8350ba92",
   "metadata": {
    "execution": {
     "iopub.execute_input": "2022-11-09T09:13:32.741393Z",
     "iopub.status.busy": "2022-11-09T09:13:32.740610Z",
     "iopub.status.idle": "2022-11-09T09:13:32.755143Z",
     "shell.execute_reply": "2022-11-09T09:13:32.753853Z"
    },
    "papermill": {
     "duration": 0.026882,
     "end_time": "2022-11-09T09:13:32.757556",
     "exception": false,
     "start_time": "2022-11-09T09:13:32.730674",
     "status": "completed"
    },
    "tags": []
   },
   "outputs": [
    {
     "data": {
      "text/html": [
       "<div>\n",
       "<style scoped>\n",
       "    .dataframe tbody tr th:only-of-type {\n",
       "        vertical-align: middle;\n",
       "    }\n",
       "\n",
       "    .dataframe tbody tr th {\n",
       "        vertical-align: top;\n",
       "    }\n",
       "\n",
       "    .dataframe thead th {\n",
       "        text-align: right;\n",
       "    }\n",
       "</style>\n",
       "<table border=\"1\" class=\"dataframe\">\n",
       "  <thead>\n",
       "    <tr style=\"text-align: right;\">\n",
       "      <th></th>\n",
       "      <th>Pclass</th>\n",
       "      <th>Sex</th>\n",
       "      <th>Age</th>\n",
       "      <th>Fare</th>\n",
       "      <th>Embarked</th>\n",
       "      <th>Title</th>\n",
       "      <th>Family</th>\n",
       "    </tr>\n",
       "  </thead>\n",
       "  <tbody>\n",
       "    <tr>\n",
       "      <th>0</th>\n",
       "      <td>3</td>\n",
       "      <td>male</td>\n",
       "      <td>22.0</td>\n",
       "      <td>7.2500</td>\n",
       "      <td>S</td>\n",
       "      <td>Other</td>\n",
       "      <td>1</td>\n",
       "    </tr>\n",
       "    <tr>\n",
       "      <th>1</th>\n",
       "      <td>1</td>\n",
       "      <td>female</td>\n",
       "      <td>38.0</td>\n",
       "      <td>71.2833</td>\n",
       "      <td>C</td>\n",
       "      <td>Other</td>\n",
       "      <td>1</td>\n",
       "    </tr>\n",
       "    <tr>\n",
       "      <th>2</th>\n",
       "      <td>3</td>\n",
       "      <td>female</td>\n",
       "      <td>26.0</td>\n",
       "      <td>7.9250</td>\n",
       "      <td>S</td>\n",
       "      <td>Other</td>\n",
       "      <td>0</td>\n",
       "    </tr>\n",
       "  </tbody>\n",
       "</table>\n",
       "</div>"
      ],
      "text/plain": [
       "   Pclass     Sex   Age     Fare Embarked  Title  Family\n",
       "0       3    male  22.0   7.2500        S  Other       1\n",
       "1       1  female  38.0  71.2833        C  Other       1\n",
       "2       3  female  26.0   7.9250        S  Other       0"
      ]
     },
     "execution_count": 9,
     "metadata": {},
     "output_type": "execute_result"
    }
   ],
   "source": [
    "training_df.head(3)"
   ]
  },
  {
   "cell_type": "code",
   "execution_count": 10,
   "id": "a3d631f5",
   "metadata": {
    "execution": {
     "iopub.execute_input": "2022-11-09T09:13:32.776719Z",
     "iopub.status.busy": "2022-11-09T09:13:32.776317Z",
     "iopub.status.idle": "2022-11-09T09:13:32.781125Z",
     "shell.execute_reply": "2022-11-09T09:13:32.780000Z"
    },
    "papermill": {
     "duration": 0.017223,
     "end_time": "2022-11-09T09:13:32.783290",
     "exception": false,
     "start_time": "2022-11-09T09:13:32.766067",
     "status": "completed"
    },
    "tags": []
   },
   "outputs": [],
   "source": [
    "numeric_cols = ['Fare', 'Age']\n",
    "categoric_cols = ['Sex', 'Title', 'Family', 'Embarked']\n",
    "other_cols = ['Pclass']"
   ]
  },
  {
   "cell_type": "code",
   "execution_count": 11,
   "id": "e27d08d0",
   "metadata": {
    "execution": {
     "iopub.execute_input": "2022-11-09T09:13:32.802971Z",
     "iopub.status.busy": "2022-11-09T09:13:32.802254Z",
     "iopub.status.idle": "2022-11-09T09:13:32.811146Z",
     "shell.execute_reply": "2022-11-09T09:13:32.810389Z"
    },
    "papermill": {
     "duration": 0.02136,
     "end_time": "2022-11-09T09:13:32.813231",
     "exception": false,
     "start_time": "2022-11-09T09:13:32.791871",
     "status": "completed"
    },
    "tags": []
   },
   "outputs": [
    {
     "data": {
      "text/plain": [
       "Fare      0\n",
       "Age     177\n",
       "dtype: int64"
      ]
     },
     "execution_count": 11,
     "metadata": {},
     "output_type": "execute_result"
    }
   ],
   "source": [
    "training_df[numeric_cols].isna().sum()"
   ]
  },
  {
   "cell_type": "code",
   "execution_count": 12,
   "id": "fb506bca",
   "metadata": {
    "execution": {
     "iopub.execute_input": "2022-11-09T09:13:32.833120Z",
     "iopub.status.busy": "2022-11-09T09:13:32.832430Z",
     "iopub.status.idle": "2022-11-09T09:13:33.118602Z",
     "shell.execute_reply": "2022-11-09T09:13:33.117124Z"
    },
    "papermill": {
     "duration": 0.299502,
     "end_time": "2022-11-09T09:13:33.121581",
     "exception": false,
     "start_time": "2022-11-09T09:13:32.822079",
     "status": "completed"
    },
    "tags": []
   },
   "outputs": [
    {
     "data": {
      "text/plain": [
       "<AxesSubplot:xlabel='Age', ylabel='Density'>"
      ]
     },
     "execution_count": 12,
     "metadata": {},
     "output_type": "execute_result"
    },
    {
     "data": {
      "image/png": "[encoded data removed]",
      "text/plain": [
       "<Figure size 432x288 with 1 Axes>"
      ]
     },
     "metadata": {
      "needs_background": "light"
     },
     "output_type": "display_data"
    }
   ],
   "source": [
    "sns.kdeplot(training_df['Age'], color='red')\n",
    "sns.kdeplot(training_df['Age'].fillna(training_df['Age'].mean()), color='blue')\n",
    "sns.kdeplot(training_df['Age'].fillna(training_df['Age'].median()), color='green')\n",
    "sns.kdeplot(training_df['Age'].dropna(), color='yellow')"
   ]
  },
  {
   "cell_type": "code",
   "execution_count": 13,
   "id": "3bb13867",
   "metadata": {
    "execution": {
     "iopub.execute_input": "2022-11-09T09:13:33.143016Z",
     "iopub.status.busy": "2022-11-09T09:13:33.142567Z",
     "iopub.status.idle": "2022-11-09T09:13:33.150302Z",
     "shell.execute_reply": "2022-11-09T09:13:33.148976Z"
    },
    "papermill": {
     "duration": 0.021683,
     "end_time": "2022-11-09T09:13:33.152672",
     "exception": false,
     "start_time": "2022-11-09T09:13:33.130989",
     "status": "completed"
    },
    "tags": []
   },
   "outputs": [],
   "source": [
    "def preprocess_numeric_data(df, columns):\n",
    "    \n",
    "    from sklearn.impute import SimpleImputer\n",
    "    \n",
    "    imputer = SimpleImputer(strategy='median')\n",
    "    \n",
    "    imputer = imputer.fit(df[columns])\n",
    "    df[columns] = imputer.transform(df[columns])\n",
    "    \n",
    "    \n",
    "    from sklearn.preprocessing import StandardScaler\n",
    "    \n",
    "    scaler = StandardScaler()\n",
    "    \n",
    "    scaler = scaler.fit(df[columns])\n",
    "    df[columns] = scaler.transform(df[columns])\n",
    "    \n",
    "    return df, imputer, scaler"
   ]
  },
  {
   "cell_type": "code",
   "execution_count": 14,
   "id": "6498d163",
   "metadata": {
    "execution": {
     "iopub.execute_input": "2022-11-09T09:13:33.174786Z",
     "iopub.status.busy": "2022-11-09T09:13:33.173389Z",
     "iopub.status.idle": "2022-11-09T09:13:33.185319Z",
     "shell.execute_reply": "2022-11-09T09:13:33.184292Z"
    },
    "papermill": {
     "duration": 0.025689,
     "end_time": "2022-11-09T09:13:33.187772",
     "exception": false,
     "start_time": "2022-11-09T09:13:33.162083",
     "status": "completed"
    },
    "tags": []
   },
   "outputs": [
    {
     "data": {
      "text/plain": [
       "Sex         0\n",
       "Title       0\n",
       "Family      0\n",
       "Embarked    2\n",
       "dtype: int64"
      ]
     },
     "execution_count": 14,
     "metadata": {},
     "output_type": "execute_result"
    }
   ],
   "source": [
    "training_df[categoric_cols].isna().sum()"
   ]
  },
  {
   "cell_type": "code",
   "execution_count": 15,
   "id": "319f6e2d",
   "metadata": {
    "execution": {
     "iopub.execute_input": "2022-11-09T09:13:33.209091Z",
     "iopub.status.busy": "2022-11-09T09:13:33.208089Z",
     "iopub.status.idle": "2022-11-09T09:13:33.217025Z",
     "shell.execute_reply": "2022-11-09T09:13:33.215747Z"
    },
    "papermill": {
     "duration": 0.022458,
     "end_time": "2022-11-09T09:13:33.219582",
     "exception": false,
     "start_time": "2022-11-09T09:13:33.197124",
     "status": "completed"
    },
    "tags": []
   },
   "outputs": [],
   "source": [
    "def preprocess_categorical_data(df, columns):\n",
    "    \n",
    "    from sklearn.impute import SimpleImputer\n",
    "    \n",
    "    imputer = SimpleImputer(strategy='most_frequent')\n",
    "    \n",
    "    imputer = imputer.fit(df[columns])\n",
    "    df[columns] = imputer.transform(df[columns])\n",
    "    \n",
    "    from sklearn.preprocessing import OneHotEncoder\n",
    "    \n",
    "    ohe = OneHotEncoder(sparse=False, dtype=np.int64)\n",
    "    \n",
    "    ohe = ohe.fit(df[columns])\n",
    "    ohe_features = ohe.get_feature_names()\n",
    "    df[ohe_features] = ohe.transform(df[columns])\n",
    "    \n",
    "    return df, ohe_features.tolist(), imputer, ohe"
   ]
  },
  {
   "cell_type": "code",
   "execution_count": 16,
   "id": "39c2b894",
   "metadata": {
    "execution": {
     "iopub.execute_input": "2022-11-09T09:13:33.243423Z",
     "iopub.status.busy": "2022-11-09T09:13:33.242112Z",
     "iopub.status.idle": "2022-11-09T09:13:33.620564Z",
     "shell.execute_reply": "2022-11-09T09:13:33.619161Z"
    },
    "papermill": {
     "duration": 0.394491,
     "end_time": "2022-11-09T09:13:33.623513",
     "exception": false,
     "start_time": "2022-11-09T09:13:33.229022",
     "status": "completed"
    },
    "tags": []
   },
   "outputs": [
    {
     "name": "stderr",
     "output_type": "stream",
     "text": [
      "/opt/conda/lib/python3.7/site-packages/sklearn/utils/deprecation.py:87: FutureWarning: Function get_feature_names is deprecated; get_feature_names is deprecated in 1.0 and will be removed in 1.2. Please use get_feature_names_out instead.\n",
      "  warnings.warn(msg, category=FutureWarning)\n"
     ]
    }
   ],
   "source": [
    "training_df, num_imputer, num_scaler = preprocess_numeric_data(training_df, numeric_cols)\n",
    "training_df, ohe_features, cat_imputer, cat_encoder = preprocess_categorical_data(training_df, categoric_cols)"
   ]
  },
  {
   "cell_type": "code",
   "execution_count": 17,
   "id": "83fbbf91",
   "metadata": {
    "execution": {
     "iopub.execute_input": "2022-11-09T09:13:33.645132Z",
     "iopub.status.busy": "2022-11-09T09:13:33.643865Z",
     "iopub.status.idle": "2022-11-09T09:13:33.663553Z",
     "shell.execute_reply": "2022-11-09T09:13:33.662320Z"
    },
    "papermill": {
     "duration": 0.033224,
     "end_time": "2022-11-09T09:13:33.666300",
     "exception": false,
     "start_time": "2022-11-09T09:13:33.633076",
     "status": "completed"
    },
    "tags": []
   },
   "outputs": [
    {
     "data": {
      "text/html": [
       "<div>\n",
       "<style scoped>\n",
       "    .dataframe tbody tr th:only-of-type {\n",
       "        vertical-align: middle;\n",
       "    }\n",
       "\n",
       "    .dataframe tbody tr th {\n",
       "        vertical-align: top;\n",
       "    }\n",
       "\n",
       "    .dataframe thead th {\n",
       "        text-align: right;\n",
       "    }\n",
       "</style>\n",
       "<table border=\"1\" class=\"dataframe\">\n",
       "  <thead>\n",
       "    <tr style=\"text-align: right;\">\n",
       "      <th></th>\n",
       "      <th>Fare</th>\n",
       "      <th>Age</th>\n",
       "      <th>x0_female</th>\n",
       "      <th>x0_male</th>\n",
       "      <th>x1_Other</th>\n",
       "      <th>x2_0</th>\n",
       "      <th>x2_1</th>\n",
       "      <th>x2_2</th>\n",
       "      <th>x2_3</th>\n",
       "      <th>x2_4</th>\n",
       "      <th>x2_5</th>\n",
       "      <th>x2_6</th>\n",
       "      <th>x2_7</th>\n",
       "      <th>x2_10</th>\n",
       "      <th>x3_C</th>\n",
       "      <th>x3_Q</th>\n",
       "      <th>x3_S</th>\n",
       "      <th>Pclass</th>\n",
       "    </tr>\n",
       "  </thead>\n",
       "  <tbody>\n",
       "    <tr>\n",
       "      <th>0</th>\n",
       "      <td>-0.502445</td>\n",
       "      <td>-0.565736</td>\n",
       "      <td>0</td>\n",
       "      <td>1</td>\n",
       "      <td>1</td>\n",
       "      <td>0</td>\n",
       "      <td>1</td>\n",
       "      <td>0</td>\n",
       "      <td>0</td>\n",
       "      <td>0</td>\n",
       "      <td>0</td>\n",
       "      <td>0</td>\n",
       "      <td>0</td>\n",
       "      <td>0</td>\n",
       "      <td>0</td>\n",
       "      <td>0</td>\n",
       "      <td>1</td>\n",
       "      <td>3</td>\n",
       "    </tr>\n",
       "    <tr>\n",
       "      <th>1</th>\n",
       "      <td>0.786845</td>\n",
       "      <td>0.663861</td>\n",
       "      <td>1</td>\n",
       "      <td>0</td>\n",
       "      <td>1</td>\n",
       "      <td>0</td>\n",
       "      <td>1</td>\n",
       "      <td>0</td>\n",
       "      <td>0</td>\n",
       "      <td>0</td>\n",
       "      <td>0</td>\n",
       "      <td>0</td>\n",
       "      <td>0</td>\n",
       "      <td>0</td>\n",
       "      <td>1</td>\n",
       "      <td>0</td>\n",
       "      <td>0</td>\n",
       "      <td>1</td>\n",
       "    </tr>\n",
       "    <tr>\n",
       "      <th>2</th>\n",
       "      <td>-0.488854</td>\n",
       "      <td>-0.258337</td>\n",
       "      <td>1</td>\n",
       "      <td>0</td>\n",
       "      <td>1</td>\n",
       "      <td>1</td>\n",
       "      <td>0</td>\n",
       "      <td>0</td>\n",
       "      <td>0</td>\n",
       "      <td>0</td>\n",
       "      <td>0</td>\n",
       "      <td>0</td>\n",
       "      <td>0</td>\n",
       "      <td>0</td>\n",
       "      <td>0</td>\n",
       "      <td>0</td>\n",
       "      <td>1</td>\n",
       "      <td>3</td>\n",
       "    </tr>\n",
       "  </tbody>\n",
       "</table>\n",
       "</div>"
      ],
      "text/plain": [
       "       Fare       Age  x0_female  x0_male  x1_Other  x2_0  x2_1  x2_2  x2_3  \\\n",
       "0 -0.502445 -0.565736          0        1         1     0     1     0     0   \n",
       "1  0.786845  0.663861          1        0         1     0     1     0     0   \n",
       "2 -0.488854 -0.258337          1        0         1     1     0     0     0   \n",
       "\n",
       "   x2_4  x2_5  x2_6  x2_7  x2_10  x3_C  x3_Q  x3_S  Pclass  \n",
       "0     0     0     0     0      0     0     0     1       3  \n",
       "1     0     0     0     0      0     1     0     0       1  \n",
       "2     0     0     0     0      0     0     0     1       3  "
      ]
     },
     "execution_count": 17,
     "metadata": {},
     "output_type": "execute_result"
    }
   ],
   "source": [
    "training_df = training_df[numeric_cols + ohe_features + other_cols]\n",
    "training_df.head(3)"
   ]
  },
  {
   "cell_type": "code",
   "execution_count": 18,
   "id": "3a4f6d72",
   "metadata": {
    "execution": {
     "iopub.execute_input": "2022-11-09T09:13:33.688343Z",
     "iopub.status.busy": "2022-11-09T09:13:33.687910Z",
     "iopub.status.idle": "2022-11-09T09:13:33.695748Z",
     "shell.execute_reply": "2022-11-09T09:13:33.694844Z"
    },
    "papermill": {
     "duration": 0.021973,
     "end_time": "2022-11-09T09:13:33.698332",
     "exception": false,
     "start_time": "2022-11-09T09:13:33.676359",
     "status": "completed"
    },
    "tags": []
   },
   "outputs": [],
   "source": [
    "from sklearn.model_selection import train_test_split\n",
    "\n",
    "X_train, X_test, y_train, y_test = train_test_split(training_df, training_target, test_size=0.2, random_state=42)"
   ]
  },
  {
   "cell_type": "code",
   "execution_count": 19,
   "id": "d1e9f6dd",
   "metadata": {
    "execution": {
     "iopub.execute_input": "2022-11-09T09:13:33.721477Z",
     "iopub.status.busy": "2022-11-09T09:13:33.720057Z",
     "iopub.status.idle": "2022-11-09T09:13:33.729052Z",
     "shell.execute_reply": "2022-11-09T09:13:33.727882Z"
    },
    "papermill": {
     "duration": 0.022879,
     "end_time": "2022-11-09T09:13:33.731569",
     "exception": false,
     "start_time": "2022-11-09T09:13:33.708690",
     "status": "completed"
    },
    "tags": []
   },
   "outputs": [
    {
     "data": {
      "text/plain": [
       "((712, 18), (179, 18), (712,), (179,))"
      ]
     },
     "execution_count": 19,
     "metadata": {},
     "output_type": "execute_result"
    }
   ],
   "source": [
    "X_train.shape, X_test.shape, y_train.shape, y_test.shape"
   ]
  },
  {
   "cell_type": "code",
   "execution_count": 20,
   "id": "f1997b72",
   "metadata": {
    "execution": {
     "iopub.execute_input": "2022-11-09T09:13:33.755180Z",
     "iopub.status.busy": "2022-11-09T09:13:33.754303Z",
     "iopub.status.idle": "2022-11-09T09:13:33.846447Z",
     "shell.execute_reply": "2022-11-09T09:13:33.844966Z"
    },
    "papermill": {
     "duration": 0.107445,
     "end_time": "2022-11-09T09:13:33.849353",
     "exception": false,
     "start_time": "2022-11-09T09:13:33.741908",
     "status": "completed"
    },
    "tags": []
   },
   "outputs": [],
   "source": [
    "from sklearn.ensemble import RandomForestClassifier\n",
    "\n",
    "RFC = RandomForestClassifier(n_estimators=380, criterion='gini', max_depth=None, max_features='auto')"
   ]
  },
  {
   "cell_type": "code",
   "execution_count": 21,
   "id": "85c7a2e0",
   "metadata": {
    "execution": {
     "iopub.execute_input": "2022-11-09T09:13:33.871048Z",
     "iopub.status.busy": "2022-11-09T09:13:33.870613Z",
     "iopub.status.idle": "2022-11-09T09:13:34.650859Z",
     "shell.execute_reply": "2022-11-09T09:13:34.649438Z"
    },
    "papermill": {
     "duration": 0.794687,
     "end_time": "2022-11-09T09:13:34.653989",
     "exception": false,
     "start_time": "2022-11-09T09:13:33.859302",
     "status": "completed"
    },
    "tags": []
   },
   "outputs": [],
   "source": [
    "RFC.fit(X_train, y_train)\n",
    "y_pred = RFC.predict(X_test)"
   ]
  },
  {
   "cell_type": "code",
   "execution_count": 22,
   "id": "b799c1b1",
   "metadata": {
    "execution": {
     "iopub.execute_input": "2022-11-09T09:13:34.676253Z",
     "iopub.status.busy": "2022-11-09T09:13:34.675779Z",
     "iopub.status.idle": "2022-11-09T09:13:34.684912Z",
     "shell.execute_reply": "2022-11-09T09:13:34.683732Z"
    },
    "papermill": {
     "duration": 0.023182,
     "end_time": "2022-11-09T09:13:34.687243",
     "exception": false,
     "start_time": "2022-11-09T09:13:34.664061",
     "status": "completed"
    },
    "tags": []
   },
   "outputs": [
    {
     "data": {
      "text/plain": [
       "0.8212290502793296"
      ]
     },
     "execution_count": 22,
     "metadata": {},
     "output_type": "execute_result"
    }
   ],
   "source": [
    "from sklearn.metrics import accuracy_score\n",
    "\n",
    "accuracy_score(y_test, y_pred)"
   ]
  },
  {
   "cell_type": "code",
   "execution_count": 23,
   "id": "5d7b4422",
   "metadata": {
    "execution": {
     "iopub.execute_input": "2022-11-09T09:13:34.709180Z",
     "iopub.status.busy": "2022-11-09T09:13:34.708745Z",
     "iopub.status.idle": "2022-11-09T09:13:34.714077Z",
     "shell.execute_reply": "2022-11-09T09:13:34.713239Z"
    },
    "papermill": {
     "duration": 0.018669,
     "end_time": "2022-11-09T09:13:34.716269",
     "exception": false,
     "start_time": "2022-11-09T09:13:34.697600",
     "status": "completed"
    },
    "tags": []
   },
   "outputs": [],
   "source": [
    "def preprocess_test_num_data(df, columns, num_imputer, num_scaler):\n",
    "    \n",
    "    df[columns] = num_imputer.transform(df[columns])\n",
    "    df[columns] = num_scaler.transform(df[columns])\n",
    "    \n",
    "    return df"
   ]
  },
  {
   "cell_type": "code",
   "execution_count": 24,
   "id": "5725523b",
   "metadata": {
    "execution": {
     "iopub.execute_input": "2022-11-09T09:13:34.738688Z",
     "iopub.status.busy": "2022-11-09T09:13:34.738255Z",
     "iopub.status.idle": "2022-11-09T09:13:34.745726Z",
     "shell.execute_reply": "2022-11-09T09:13:34.744792Z"
    },
    "papermill": {
     "duration": 0.021316,
     "end_time": "2022-11-09T09:13:34.747849",
     "exception": false,
     "start_time": "2022-11-09T09:13:34.726533",
     "status": "completed"
    },
    "tags": []
   },
   "outputs": [],
   "source": [
    "def preprocess_test_cat_data(df, columns, ohe_features, cat_imputer, cat_encoder):\n",
    "    \n",
    "    df[columns] = cat_imputer.transform(df[columns])\n",
    "    df[ohe_features] = cat_encoder.transform(df[columns])\n",
    "    \n",
    "    return df"
   ]
  },
  {
   "cell_type": "code",
   "execution_count": 25,
   "id": "837e8334",
   "metadata": {
    "execution": {
     "iopub.execute_input": "2022-11-09T09:13:34.770017Z",
     "iopub.status.busy": "2022-11-09T09:13:34.769545Z",
     "iopub.status.idle": "2022-11-09T09:13:34.795316Z",
     "shell.execute_reply": "2022-11-09T09:13:34.793953Z"
    },
    "papermill": {
     "duration": 0.039806,
     "end_time": "2022-11-09T09:13:34.798037",
     "exception": false,
     "start_time": "2022-11-09T09:13:34.758231",
     "status": "completed"
    },
    "tags": []
   },
   "outputs": [],
   "source": [
    "testing_df = preprocess_test_num_data(testing_df, numeric_cols, num_imputer, num_scaler)\n",
    "testing_df = preprocess_test_cat_data(testing_df, categoric_cols, ohe_features, cat_imputer, cat_encoder)"
   ]
  },
  {
   "cell_type": "code",
   "execution_count": 26,
   "id": "50f22954",
   "metadata": {
    "execution": {
     "iopub.execute_input": "2022-11-09T09:13:34.820982Z",
     "iopub.status.busy": "2022-11-09T09:13:34.820445Z",
     "iopub.status.idle": "2022-11-09T09:13:34.828104Z",
     "shell.execute_reply": "2022-11-09T09:13:34.826926Z"
    },
    "papermill": {
     "duration": 0.021859,
     "end_time": "2022-11-09T09:13:34.830595",
     "exception": false,
     "start_time": "2022-11-09T09:13:34.808736",
     "status": "completed"
    },
    "tags": []
   },
   "outputs": [],
   "source": [
    "testing_df = testing_df[numeric_cols + ohe_features + other_cols]"
   ]
  },
  {
   "cell_type": "code",
   "execution_count": 27,
   "id": "35d4a528",
   "metadata": {
    "execution": {
     "iopub.execute_input": "2022-11-09T09:13:34.852718Z",
     "iopub.status.busy": "2022-11-09T09:13:34.852273Z",
     "iopub.status.idle": "2022-11-09T09:13:34.939156Z",
     "shell.execute_reply": "2022-11-09T09:13:34.937818Z"
    },
    "papermill": {
     "duration": 0.101213,
     "end_time": "2022-11-09T09:13:34.941856",
     "exception": false,
     "start_time": "2022-11-09T09:13:34.840643",
     "status": "completed"
    },
    "tags": []
   },
   "outputs": [],
   "source": [
    "y_pred = RFC.predict(testing_df)"
   ]
  },
  {
   "cell_type": "code",
   "execution_count": 28,
   "id": "8d98a883",
   "metadata": {
    "execution": {
     "iopub.execute_input": "2022-11-09T09:13:34.964090Z",
     "iopub.status.busy": "2022-11-09T09:13:34.963611Z",
     "iopub.status.idle": "2022-11-09T09:13:34.986642Z",
     "shell.execute_reply": "2022-11-09T09:13:34.985406Z"
    },
    "papermill": {
     "duration": 0.036809,
     "end_time": "2022-11-09T09:13:34.989191",
     "exception": false,
     "start_time": "2022-11-09T09:13:34.952382",
     "status": "completed"
    },
    "tags": []
   },
   "outputs": [
    {
     "data": {
      "text/html": [
       "<div>\n",
       "<style scoped>\n",
       "    .dataframe tbody tr th:only-of-type {\n",
       "        vertical-align: middle;\n",
       "    }\n",
       "\n",
       "    .dataframe tbody tr th {\n",
       "        vertical-align: top;\n",
       "    }\n",
       "\n",
       "    .dataframe thead th {\n",
       "        text-align: right;\n",
       "    }\n",
       "</style>\n",
       "<table border=\"1\" class=\"dataframe\">\n",
       "  <thead>\n",
       "    <tr style=\"text-align: right;\">\n",
       "      <th></th>\n",
       "      <th>Fare</th>\n",
       "      <th>Age</th>\n",
       "      <th>x0_female</th>\n",
       "      <th>x0_male</th>\n",
       "      <th>x1_Other</th>\n",
       "      <th>x2_0</th>\n",
       "      <th>x2_1</th>\n",
       "      <th>x2_2</th>\n",
       "      <th>x2_3</th>\n",
       "      <th>x2_4</th>\n",
       "      <th>x2_5</th>\n",
       "      <th>x2_6</th>\n",
       "      <th>x2_7</th>\n",
       "      <th>x2_10</th>\n",
       "      <th>x3_C</th>\n",
       "      <th>x3_Q</th>\n",
       "      <th>x3_S</th>\n",
       "      <th>Pclass</th>\n",
       "      <th>Survived</th>\n",
       "    </tr>\n",
       "  </thead>\n",
       "  <tbody>\n",
       "    <tr>\n",
       "      <th>0</th>\n",
       "      <td>-0.490783</td>\n",
       "      <td>0.394887</td>\n",
       "      <td>0</td>\n",
       "      <td>1</td>\n",
       "      <td>1</td>\n",
       "      <td>1</td>\n",
       "      <td>0</td>\n",
       "      <td>0</td>\n",
       "      <td>0</td>\n",
       "      <td>0</td>\n",
       "      <td>0</td>\n",
       "      <td>0</td>\n",
       "      <td>0</td>\n",
       "      <td>0</td>\n",
       "      <td>0</td>\n",
       "      <td>1</td>\n",
       "      <td>0</td>\n",
       "      <td>3</td>\n",
       "      <td>0</td>\n",
       "    </tr>\n",
       "    <tr>\n",
       "      <th>1</th>\n",
       "      <td>-0.507479</td>\n",
       "      <td>1.355510</td>\n",
       "      <td>1</td>\n",
       "      <td>0</td>\n",
       "      <td>1</td>\n",
       "      <td>0</td>\n",
       "      <td>1</td>\n",
       "      <td>0</td>\n",
       "      <td>0</td>\n",
       "      <td>0</td>\n",
       "      <td>0</td>\n",
       "      <td>0</td>\n",
       "      <td>0</td>\n",
       "      <td>0</td>\n",
       "      <td>0</td>\n",
       "      <td>0</td>\n",
       "      <td>1</td>\n",
       "      <td>3</td>\n",
       "      <td>0</td>\n",
       "    </tr>\n",
       "    <tr>\n",
       "      <th>2</th>\n",
       "      <td>-0.453367</td>\n",
       "      <td>2.508257</td>\n",
       "      <td>0</td>\n",
       "      <td>1</td>\n",
       "      <td>1</td>\n",
       "      <td>1</td>\n",
       "      <td>0</td>\n",
       "      <td>0</td>\n",
       "      <td>0</td>\n",
       "      <td>0</td>\n",
       "      <td>0</td>\n",
       "      <td>0</td>\n",
       "      <td>0</td>\n",
       "      <td>0</td>\n",
       "      <td>0</td>\n",
       "      <td>1</td>\n",
       "      <td>0</td>\n",
       "      <td>2</td>\n",
       "      <td>0</td>\n",
       "    </tr>\n",
       "    <tr>\n",
       "      <th>3</th>\n",
       "      <td>-0.474005</td>\n",
       "      <td>-0.181487</td>\n",
       "      <td>0</td>\n",
       "      <td>1</td>\n",
       "      <td>1</td>\n",
       "      <td>1</td>\n",
       "      <td>0</td>\n",
       "      <td>0</td>\n",
       "      <td>0</td>\n",
       "      <td>0</td>\n",
       "      <td>0</td>\n",
       "      <td>0</td>\n",
       "      <td>0</td>\n",
       "      <td>0</td>\n",
       "      <td>0</td>\n",
       "      <td>0</td>\n",
       "      <td>1</td>\n",
       "      <td>3</td>\n",
       "      <td>1</td>\n",
       "    </tr>\n",
       "    <tr>\n",
       "      <th>4</th>\n",
       "      <td>-0.401017</td>\n",
       "      <td>-0.565736</td>\n",
       "      <td>1</td>\n",
       "      <td>0</td>\n",
       "      <td>1</td>\n",
       "      <td>0</td>\n",
       "      <td>0</td>\n",
       "      <td>1</td>\n",
       "      <td>0</td>\n",
       "      <td>0</td>\n",
       "      <td>0</td>\n",
       "      <td>0</td>\n",
       "      <td>0</td>\n",
       "      <td>0</td>\n",
       "      <td>0</td>\n",
       "      <td>0</td>\n",
       "      <td>1</td>\n",
       "      <td>3</td>\n",
       "      <td>1</td>\n",
       "    </tr>\n",
       "    <tr>\n",
       "      <th>...</th>\n",
       "      <td>...</td>\n",
       "      <td>...</td>\n",
       "      <td>...</td>\n",
       "      <td>...</td>\n",
       "      <td>...</td>\n",
       "      <td>...</td>\n",
       "      <td>...</td>\n",
       "      <td>...</td>\n",
       "      <td>...</td>\n",
       "      <td>...</td>\n",
       "      <td>...</td>\n",
       "      <td>...</td>\n",
       "      <td>...</td>\n",
       "      <td>...</td>\n",
       "      <td>...</td>\n",
       "      <td>...</td>\n",
       "      <td>...</td>\n",
       "      <td>...</td>\n",
       "      <td>...</td>\n",
       "    </tr>\n",
       "    <tr>\n",
       "      <th>413</th>\n",
       "      <td>-0.486337</td>\n",
       "      <td>-0.104637</td>\n",
       "      <td>0</td>\n",
       "      <td>1</td>\n",
       "      <td>1</td>\n",
       "      <td>1</td>\n",
       "      <td>0</td>\n",
       "      <td>0</td>\n",
       "      <td>0</td>\n",
       "      <td>0</td>\n",
       "      <td>0</td>\n",
       "      <td>0</td>\n",
       "      <td>0</td>\n",
       "      <td>0</td>\n",
       "      <td>0</td>\n",
       "      <td>0</td>\n",
       "      <td>1</td>\n",
       "      <td>3</td>\n",
       "      <td>0</td>\n",
       "    </tr>\n",
       "    <tr>\n",
       "      <th>414</th>\n",
       "      <td>1.544246</td>\n",
       "      <td>0.740711</td>\n",
       "      <td>1</td>\n",
       "      <td>0</td>\n",
       "      <td>1</td>\n",
       "      <td>1</td>\n",
       "      <td>0</td>\n",
       "      <td>0</td>\n",
       "      <td>0</td>\n",
       "      <td>0</td>\n",
       "      <td>0</td>\n",
       "      <td>0</td>\n",
       "      <td>0</td>\n",
       "      <td>0</td>\n",
       "      <td>1</td>\n",
       "      <td>0</td>\n",
       "      <td>0</td>\n",
       "      <td>1</td>\n",
       "      <td>1</td>\n",
       "    </tr>\n",
       "    <tr>\n",
       "      <th>415</th>\n",
       "      <td>-0.502445</td>\n",
       "      <td>0.702286</td>\n",
       "      <td>0</td>\n",
       "      <td>1</td>\n",
       "      <td>1</td>\n",
       "      <td>1</td>\n",
       "      <td>0</td>\n",
       "      <td>0</td>\n",
       "      <td>0</td>\n",
       "      <td>0</td>\n",
       "      <td>0</td>\n",
       "      <td>0</td>\n",
       "      <td>0</td>\n",
       "      <td>0</td>\n",
       "      <td>0</td>\n",
       "      <td>0</td>\n",
       "      <td>1</td>\n",
       "      <td>3</td>\n",
       "      <td>0</td>\n",
       "    </tr>\n",
       "    <tr>\n",
       "      <th>416</th>\n",
       "      <td>-0.486337</td>\n",
       "      <td>-0.104637</td>\n",
       "      <td>0</td>\n",
       "      <td>1</td>\n",
       "      <td>1</td>\n",
       "      <td>1</td>\n",
       "      <td>0</td>\n",
       "      <td>0</td>\n",
       "      <td>0</td>\n",
       "      <td>0</td>\n",
       "      <td>0</td>\n",
       "      <td>0</td>\n",
       "      <td>0</td>\n",
       "      <td>0</td>\n",
       "      <td>0</td>\n",
       "      <td>0</td>\n",
       "      <td>1</td>\n",
       "      <td>3</td>\n",
       "      <td>0</td>\n",
       "    </tr>\n",
       "    <tr>\n",
       "      <th>417</th>\n",
       "      <td>-0.198244</td>\n",
       "      <td>-0.104637</td>\n",
       "      <td>0</td>\n",
       "      <td>1</td>\n",
       "      <td>1</td>\n",
       "      <td>0</td>\n",
       "      <td>0</td>\n",
       "      <td>1</td>\n",
       "      <td>0</td>\n",
       "      <td>0</td>\n",
       "      <td>0</td>\n",
       "      <td>0</td>\n",
       "      <td>0</td>\n",
       "      <td>0</td>\n",
       "      <td>1</td>\n",
       "      <td>0</td>\n",
       "      <td>0</td>\n",
       "      <td>3</td>\n",
       "      <td>0</td>\n",
       "    </tr>\n",
       "  </tbody>\n",
       "</table>\n",
       "<p>418 rows × 19 columns</p>\n",
       "</div>"
      ],
      "text/plain": [
       "         Fare       Age  x0_female  x0_male  x1_Other  x2_0  x2_1  x2_2  x2_3  \\\n",
       "0   -0.490783  0.394887          0        1         1     1     0     0     0   \n",
       "1   -0.507479  1.355510          1        0         1     0     1     0     0   \n",
       "2   -0.453367  2.508257          0        1         1     1     0     0     0   \n",
       "3   -0.474005 -0.181487          0        1         1     1     0     0     0   \n",
       "4   -0.401017 -0.565736          1        0         1     0     0     1     0   \n",
       "..        ...       ...        ...      ...       ...   ...   ...   ...   ...   \n",
       "413 -0.486337 -0.104637          0        1         1     1     0     0     0   \n",
       "414  1.544246  0.740711          1        0         1     1     0     0     0   \n",
       "415 -0.502445  0.702286          0        1         1     1     0     0     0   \n",
       "416 -0.486337 -0.104637          0        1         1     1     0     0     0   \n",
       "417 -0.198244 -0.104637          0        1         1     0     0     1     0   \n",
       "\n",
       "     x2_4  x2_5  x2_6  x2_7  x2_10  x3_C  x3_Q  x3_S  Pclass  Survived  \n",
       "0       0     0     0     0      0     0     1     0       3         0  \n",
       "1       0     0     0     0      0     0     0     1       3         0  \n",
       "2       0     0     0     0      0     0     1     0       2         0  \n",
       "3       0     0     0     0      0     0     0     1       3         1  \n",
       "4       0     0     0     0      0     0     0     1       3         1  \n",
       "..    ...   ...   ...   ...    ...   ...   ...   ...     ...       ...  \n",
       "413     0     0     0     0      0     0     0     1       3         0  \n",
       "414     0     0     0     0      0     1     0     0       1         1  \n",
       "415     0     0     0     0      0     0     0     1       3         0  \n",
       "416     0     0     0     0      0     0     0     1       3         0  \n",
       "417     0     0     0     0      0     1     0     0       3         0  \n",
       "\n",
       "[418 rows x 19 columns]"
      ]
     },
     "execution_count": 28,
     "metadata": {},
     "output_type": "execute_result"
    }
   ],
   "source": [
    "testing_df['Survived'] = y_pred\n",
    "testing_df"
   ]
  },
  {
   "cell_type": "code",
   "execution_count": 29,
   "id": "0acbdf58",
   "metadata": {
    "execution": {
     "iopub.execute_input": "2022-11-09T09:13:35.012591Z",
     "iopub.status.busy": "2022-11-09T09:13:35.012045Z",
     "iopub.status.idle": "2022-11-09T09:13:35.028147Z",
     "shell.execute_reply": "2022-11-09T09:13:35.027367Z"
    },
    "papermill": {
     "duration": 0.030948,
     "end_time": "2022-11-09T09:13:35.030872",
     "exception": false,
     "start_time": "2022-11-09T09:13:34.999924",
     "status": "completed"
    },
    "tags": []
   },
   "outputs": [
    {
     "data": {
      "text/html": [
       "<div>\n",
       "<style scoped>\n",
       "    .dataframe tbody tr th:only-of-type {\n",
       "        vertical-align: middle;\n",
       "    }\n",
       "\n",
       "    .dataframe tbody tr th {\n",
       "        vertical-align: top;\n",
       "    }\n",
       "\n",
       "    .dataframe thead th {\n",
       "        text-align: right;\n",
       "    }\n",
       "</style>\n",
       "<table border=\"1\" class=\"dataframe\">\n",
       "  <thead>\n",
       "    <tr style=\"text-align: right;\">\n",
       "      <th></th>\n",
       "      <th>Fare</th>\n",
       "      <th>Age</th>\n",
       "      <th>x0_female</th>\n",
       "      <th>x0_male</th>\n",
       "      <th>x1_Other</th>\n",
       "      <th>x2_0</th>\n",
       "      <th>x2_1</th>\n",
       "      <th>x2_2</th>\n",
       "      <th>x2_3</th>\n",
       "      <th>x2_4</th>\n",
       "      <th>x2_5</th>\n",
       "      <th>x2_6</th>\n",
       "      <th>x2_7</th>\n",
       "      <th>x2_10</th>\n",
       "      <th>x3_C</th>\n",
       "      <th>x3_Q</th>\n",
       "      <th>x3_S</th>\n",
       "      <th>Pclass</th>\n",
       "      <th>Survived</th>\n",
       "    </tr>\n",
       "  </thead>\n",
       "  <tbody>\n",
       "    <tr>\n",
       "      <th>0</th>\n",
       "      <td>-0.490783</td>\n",
       "      <td>0.394887</td>\n",
       "      <td>0</td>\n",
       "      <td>1</td>\n",
       "      <td>1</td>\n",
       "      <td>1</td>\n",
       "      <td>0</td>\n",
       "      <td>0</td>\n",
       "      <td>0</td>\n",
       "      <td>0</td>\n",
       "      <td>0</td>\n",
       "      <td>0</td>\n",
       "      <td>0</td>\n",
       "      <td>0</td>\n",
       "      <td>0</td>\n",
       "      <td>1</td>\n",
       "      <td>0</td>\n",
       "      <td>3</td>\n",
       "      <td>0</td>\n",
       "    </tr>\n",
       "    <tr>\n",
       "      <th>1</th>\n",
       "      <td>-0.507479</td>\n",
       "      <td>1.355510</td>\n",
       "      <td>1</td>\n",
       "      <td>0</td>\n",
       "      <td>1</td>\n",
       "      <td>0</td>\n",
       "      <td>1</td>\n",
       "      <td>0</td>\n",
       "      <td>0</td>\n",
       "      <td>0</td>\n",
       "      <td>0</td>\n",
       "      <td>0</td>\n",
       "      <td>0</td>\n",
       "      <td>0</td>\n",
       "      <td>0</td>\n",
       "      <td>0</td>\n",
       "      <td>1</td>\n",
       "      <td>3</td>\n",
       "      <td>0</td>\n",
       "    </tr>\n",
       "    <tr>\n",
       "      <th>2</th>\n",
       "      <td>-0.453367</td>\n",
       "      <td>2.508257</td>\n",
       "      <td>0</td>\n",
       "      <td>1</td>\n",
       "      <td>1</td>\n",
       "      <td>1</td>\n",
       "      <td>0</td>\n",
       "      <td>0</td>\n",
       "      <td>0</td>\n",
       "      <td>0</td>\n",
       "      <td>0</td>\n",
       "      <td>0</td>\n",
       "      <td>0</td>\n",
       "      <td>0</td>\n",
       "      <td>0</td>\n",
       "      <td>1</td>\n",
       "      <td>0</td>\n",
       "      <td>2</td>\n",
       "      <td>0</td>\n",
       "    </tr>\n",
       "    <tr>\n",
       "      <th>3</th>\n",
       "      <td>-0.474005</td>\n",
       "      <td>-0.181487</td>\n",
       "      <td>0</td>\n",
       "      <td>1</td>\n",
       "      <td>1</td>\n",
       "      <td>1</td>\n",
       "      <td>0</td>\n",
       "      <td>0</td>\n",
       "      <td>0</td>\n",
       "      <td>0</td>\n",
       "      <td>0</td>\n",
       "      <td>0</td>\n",
       "      <td>0</td>\n",
       "      <td>0</td>\n",
       "      <td>0</td>\n",
       "      <td>0</td>\n",
       "      <td>1</td>\n",
       "      <td>3</td>\n",
       "      <td>1</td>\n",
       "    </tr>\n",
       "    <tr>\n",
       "      <th>4</th>\n",
       "      <td>-0.401017</td>\n",
       "      <td>-0.565736</td>\n",
       "      <td>1</td>\n",
       "      <td>0</td>\n",
       "      <td>1</td>\n",
       "      <td>0</td>\n",
       "      <td>0</td>\n",
       "      <td>1</td>\n",
       "      <td>0</td>\n",
       "      <td>0</td>\n",
       "      <td>0</td>\n",
       "      <td>0</td>\n",
       "      <td>0</td>\n",
       "      <td>0</td>\n",
       "      <td>0</td>\n",
       "      <td>0</td>\n",
       "      <td>1</td>\n",
       "      <td>3</td>\n",
       "      <td>1</td>\n",
       "    </tr>\n",
       "  </tbody>\n",
       "</table>\n",
       "</div>"
      ],
      "text/plain": [
       "       Fare       Age  x0_female  x0_male  x1_Other  x2_0  x2_1  x2_2  x2_3  \\\n",
       "0 -0.490783  0.394887          0        1         1     1     0     0     0   \n",
       "1 -0.507479  1.355510          1        0         1     0     1     0     0   \n",
       "2 -0.453367  2.508257          0        1         1     1     0     0     0   \n",
       "3 -0.474005 -0.181487          0        1         1     1     0     0     0   \n",
       "4 -0.401017 -0.565736          1        0         1     0     0     1     0   \n",
       "\n",
       "   x2_4  x2_5  x2_6  x2_7  x2_10  x3_C  x3_Q  x3_S  Pclass  Survived  \n",
       "0     0     0     0     0      0     0     1     0       3         0  \n",
       "1     0     0     0     0      0     0     0     1       3         0  \n",
       "2     0     0     0     0      0     0     1     0       2         0  \n",
       "3     0     0     0     0      0     0     0     1       3         1  \n",
       "4     0     0     0     0      0     0     0     1       3         1  "
      ]
     },
     "execution_count": 29,
     "metadata": {},
     "output_type": "execute_result"
    }
   ],
   "source": [
    "testing_df.head(5)"
   ]
  },
  {
   "cell_type": "code",
   "execution_count": 30,
   "id": "650202f8",
   "metadata": {
    "execution": {
     "iopub.execute_input": "2022-11-09T09:13:35.055043Z",
     "iopub.status.busy": "2022-11-09T09:13:35.054264Z",
     "iopub.status.idle": "2022-11-09T09:13:35.060557Z",
     "shell.execute_reply": "2022-11-09T09:13:35.059180Z"
    },
    "papermill": {
     "duration": 0.021067,
     "end_time": "2022-11-09T09:13:35.063050",
     "exception": false,
     "start_time": "2022-11-09T09:13:35.041983",
     "status": "completed"
    },
    "tags": []
   },
   "outputs": [],
   "source": [
    "testing_copy['Survived'] = testing_df['Survived']\n",
    "# testing_copy.to_csv('submission.csv', index=False)"
   ]
  },
  {
   "cell_type": "code",
   "execution_count": 31,
   "id": "6be98ae2",
   "metadata": {
    "execution": {
     "iopub.execute_input": "2022-11-09T09:13:35.086412Z",
     "iopub.status.busy": "2022-11-09T09:13:35.085973Z",
     "iopub.status.idle": "2022-11-09T09:13:35.097801Z",
     "shell.execute_reply": "2022-11-09T09:13:35.096630Z"
    },
    "papermill": {
     "duration": 0.026714,
     "end_time": "2022-11-09T09:13:35.100421",
     "exception": false,
     "start_time": "2022-11-09T09:13:35.073707",
     "status": "completed"
    },
    "tags": []
   },
   "outputs": [],
   "source": [
    "testing_copy[['PassengerId', 'Survived']].to_csv('submission.csv', index=False)"
   ]
  },
  {
   "cell_type": "code",
   "execution_count": null,
   "id": "67a9fc51",
   "metadata": {
    "papermill": {
     "duration": 0.010399,
     "end_time": "2022-11-09T09:13:35.121606",
     "exception": false,
     "start_time": "2022-11-09T09:13:35.111207",
     "status": "completed"
    },
    "tags": []
   },
   "outputs": [],
   "source": []
  }
 ],
 "metadata": {
  "kernelspec": {
   "display_name": "Python 3",
   "language": "python",
   "name": "python3"
  },
  "language_info": {
   "codemirror_mode": {
    "name": "ipython",
    "version": 3
   },
   "file_extension": ".py",
   "mimetype": "text/x-python",
   "name": "python",
   "nbconvert_exporter": "python",
   "pygments_lexer": "ipython3",
   "version": "3.7.12"
  },
  "papermill": {
   "default_parameters": {},
   "duration": 13.980981,
   "end_time": "2022-11-09T09:13:36.256073",
   "environment_variables": {},
   "exception": null,
   "input_path": "__notebook__.ipynb",
   "output_path": "__notebook__.ipynb",
   "parameters": {},
   "start_time": "2022-11-09T09:13:22.275092",
   "version": "2.3.4"
  }
 },
 "nbformat": 4,
 "nbformat_minor": 5
}
